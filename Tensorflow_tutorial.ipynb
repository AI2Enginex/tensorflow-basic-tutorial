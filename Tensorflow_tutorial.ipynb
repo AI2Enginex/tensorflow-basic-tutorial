{
  "cells": [
    {
      "cell_type": "code",
      "execution_count": 2,
      "metadata": {
        "id": "IVw0fsmxb4S9"
      },
      "outputs": [],
      "source": [
        "import tensorflow as tf\n",
        "tf.compat.v1.disable_eager_execution()"
      ]
    },
    {
      "cell_type": "markdown",
      "metadata": {},
      "source": [
        "# Node and Graph concept"
      ]
    },
    {
      "cell_type": "code",
      "execution_count": 3,
      "metadata": {},
      "outputs": [
        {
          "name": "stdout",
          "output_type": "stream",
          "text": [
            "Result of addition operation: 5.0\n"
          ]
        }
      ],
      "source": [
        "import tensorflow as tf\n",
        "\n",
        "# Clear any existing graph\n",
        "tf.compat.v1.reset_default_graph()\n",
        "\n",
        "# Define nodes (operations) in the graph\n",
        "# Nodes represent mathematical operations or variables\n",
        "# Each node takes tensors (inputs) as input and produces tensors as output\n",
        "# Here, we define three nodes: a constant, a variable, and an addition operation\n",
        "\n",
        "# Node 1: Constant node\n",
        "# This node represents a constant tensor with value 2.0\n",
        "constant_node = tf.constant(2.0, name=\"constant_node\")\n",
        "\n",
        "# Node 2: Variable node\n",
        "# This node represents a variable tensor with initial value 3.0\n",
        "variable_node = tf.Variable(3.0, name=\"variable_node\")\n",
        "\n",
        "# Node 3: Addition operation\n",
        "# This node represents an addition operation between the constant and variable nodes\n",
        "# It takes the constant and variable tensors as input and produces the sum as output\n",
        "addition_node = tf.add(constant_node, variable_node, name=\"addition_node\")\n",
        "\n",
        "# Define a TensorFlow session to execute the graph\n",
        "with tf.compat.v1.Session() as sess:\n",
        "    # Initialize variables (required for variable nodes)\n",
        "    sess.run(tf.compat.v1.global_variables_initializer())\n",
        "    \n",
        "    # Execute the addition operation node and retrieve the result\n",
        "    result = sess.run(addition_node)\n",
        "    print(\"Result of addition operation:\", result)\n"
      ]
    },
    {
      "cell_type": "markdown",
      "metadata": {
        "id": "wGXEoJSjzKg7"
      },
      "source": [
        "# **Tensorflow Variable**"
      ]
    },
    {
      "cell_type": "code",
      "execution_count": 2,
      "metadata": {
        "colab": {
          "base_uri": "https://localhost:8080/"
        },
        "id": "AMU8b3jNcavl",
        "outputId": "02646c4e-476c-4e48-a86f-8e5365dcc8c5"
      },
      "outputs": [
        {
          "name": "stdout",
          "output_type": "stream",
          "text": [
            "Result of multiplying var1 and var2: 12.0\n"
          ]
        }
      ],
      "source": [
        "# Define two variables\n",
        "var1 = tf.Variable(3.0, name=\"var1\")\n",
        "var2 = tf.Variable(4.0, name=\"var2\")\n",
        "\n",
        "# Multiply the two variables\n",
        "result = var1 * var2\n",
        "\n",
        "# Start a TensorFlow session\n",
        "with tf.compat.v1.Session() as sess:\n",
        "    # Initialize variables\n",
        "    sess.run(tf.compat.v1.global_variables_initializer())\n",
        "\n",
        "    # Run the computational graph to compute the result\n",
        "    result_value = sess.run(result)\n",
        "\n",
        "    # Print the computed result\n",
        "    print(\"Result of multiplying var1 and var2:\", result_value)\n",
        "\n"
      ]
    },
    {
      "cell_type": "markdown",
      "metadata": {
        "id": "PMErO_RuzPAZ"
      },
      "source": [
        "# **Tensorflow Placeholder**"
      ]
    },
    {
      "cell_type": "code",
      "execution_count": 3,
      "metadata": {
        "colab": {
          "base_uri": "https://localhost:8080/"
        },
        "id": "l808kPmJm4Xx",
        "outputId": "bac8f067-ab56-48ab-8719-aed1df2501c6"
      },
      "outputs": [
        {
          "name": "stdout",
          "output_type": "stream",
          "text": [
            "Addition result: 5.0\n",
            "Multiplication result: 6.0\n"
          ]
        }
      ],
      "source": [
        "# Define input placeholders\n",
        "a = tf.compat.v1.placeholder(tf.float32, name=\"a\")\n",
        "b = tf.compat.v1.placeholder(tf.float32, name=\"b\")\n",
        "\n",
        "# Define operations (nodes) in the graph\n",
        "addition = tf.add(a, b, name=\"addition\")\n",
        "multiplication = tf.multiply(a, b, name=\"multiplication\")\n",
        "\n",
        "# Create a TensorFlow session\n",
        "with tf.compat.v1.Session() as sess:\n",
        "    # Define input values\n",
        "    input_values = {a: 2.0, b: 3.0}\n",
        "\n",
        "    # Run the graph to compute the outputs of the operations\n",
        "    addition_result = sess.run(addition, feed_dict=input_values)\n",
        "    multiplication_result = sess.run(multiplication, feed_dict=input_values)\n",
        "\n",
        "    # Print the results\n",
        "    print(\"Addition result:\", addition_result)\n",
        "    print(\"Multiplication result:\", multiplication_result)"
      ]
    },
    {
      "cell_type": "markdown",
      "metadata": {
        "id": "BYidyGS3zV4A"
      },
      "source": [
        "# **Matrix Multiplication using constant**"
      ]
    },
    {
      "cell_type": "code",
      "execution_count": 4,
      "metadata": {
        "colab": {
          "base_uri": "https://localhost:8080/"
        },
        "id": "IDk63yLfnvTY",
        "outputId": "315722b0-af3c-43db-bca1-06dfc2ed4a48"
      },
      "outputs": [
        {
          "name": "stdout",
          "output_type": "stream",
          "text": [
            "\n",
            "Matrix Multiplication:\n",
            "[array([[ 58.,  64.],\n",
            "       [139., 154.]], dtype=float32)]\n"
          ]
        }
      ],
      "source": [
        "\n",
        "# Define two constant matrices\n",
        "matrix1 = tf.constant([[1, 2, 3],\n",
        "                       [4, 5, 6]], dtype=tf.float32, name=\"matrix1\")\n",
        "\n",
        "matrix2 = tf.constant([[7, 8],\n",
        "                       [9, 10],\n",
        "                       [11, 12]], dtype=tf.float32, name=\"matrix2\")\n",
        "# Matrix multiplication\n",
        "matrix_multiplication = tf.matmul(matrix1, matrix2, name=\"matrix_multiplication\")\n",
        "\n",
        "# Start a TensorFlow session\n",
        "with tf.compat.v1.Session() as sess:\n",
        "    # Compute the addition and multiplication\n",
        "    multiplication_result = sess.run([matrix_multiplication])\n",
        "\n",
        "    print(\"\\nMatrix Multiplication:\")\n",
        "    print(multiplication_result)\n"
      ]
    },
    {
      "cell_type": "markdown",
      "metadata": {
        "id": "3Sfb7F9GzdZv"
      },
      "source": [
        "# **Matrix Multiplication using Placeholder**"
      ]
    },
    {
      "cell_type": "code",
      "execution_count": 5,
      "metadata": {
        "colab": {
          "base_uri": "https://localhost:8080/"
        },
        "id": "4g4AhK3KofES",
        "outputId": "bf023376-1b32-49e1-b9d3-7c02ec50bb5c"
      },
      "outputs": [
        {
          "name": "stdout",
          "output_type": "stream",
          "text": [
            "Result of matrix multiplication:\n",
            "[[ 58.  64.]\n",
            " [139. 154.]]\n"
          ]
        }
      ],
      "source": [
        "# Define input placeholders for matrices\n",
        "matrix1 = tf.compat.v1.placeholder(tf.float32, shape=[None, 3], name=\"matrix1\")\n",
        "matrix2 = tf.compat.v1.placeholder(tf.float32, shape=[3, None], name=\"matrix2\")\n",
        "\n",
        "# Matrix multiplication operation\n",
        "matrix_product = tf.matmul(matrix1, matrix2, name=\"matrix_product\")\n",
        "\n",
        "# Define input values for matrices\n",
        "input_matrix1 = [[1, 2, 3],\n",
        "                 [4, 5, 6]]\n",
        "\n",
        "input_matrix2 = [[7, 8],\n",
        "                 [9, 10],\n",
        "                 [11, 12]]\n",
        "\n",
        "# Start a TensorFlow session\n",
        "with tf.compat.v1.Session() as sess:\n",
        "    # Run the matrix multiplication operation\n",
        "    product_result = sess.run(matrix_product, feed_dict={matrix1: input_matrix1, matrix2: input_matrix2})\n",
        "\n",
        "    # Print the result\n",
        "    print(\"Result of matrix multiplication:\")\n",
        "    print(product_result)\n"
      ]
    },
    {
      "cell_type": "markdown",
      "metadata": {
        "id": "qGJp9zePzuOZ"
      },
      "source": [
        "# **Matrix Addition using Placeholder**"
      ]
    },
    {
      "cell_type": "code",
      "execution_count": 6,
      "metadata": {
        "colab": {
          "base_uri": "https://localhost:8080/"
        },
        "id": "xrqEq8cro3Xw",
        "outputId": "0ed9f754-8448-44a7-9a6a-e2288f4624f2"
      },
      "outputs": [
        {
          "name": "stdout",
          "output_type": "stream",
          "text": [
            "Result of matrix addition:\n",
            "[[ 8. 10. 12.]\n",
            " [14. 16. 18.]]\n"
          ]
        }
      ],
      "source": [
        "# Define input placeholders for matrices\n",
        "matrix1 = tf.compat.v1.placeholder(tf.float32, shape=[None, None], name=\"matrix1\")\n",
        "matrix2 = tf.compat.v1.placeholder(tf.float32, shape=[None, None], name=\"matrix2\")\n",
        "\n",
        "# Matrix addition operation\n",
        "matrix_sum = tf.add(matrix1, matrix2, name=\"matrix_sum\")\n",
        "\n",
        "# Define input values for matrices\n",
        "input_matrix1 = [[1, 2, 3],\n",
        "                 [4, 5, 6]]\n",
        "\n",
        "input_matrix2 = [[7, 8, 9],\n",
        "                 [10, 11, 12]]\n",
        "\n",
        "# Start a TensorFlow session\n",
        "with tf.compat.v1.Session() as sess:\n",
        "    # Run the matrix addition operation\n",
        "    sum_result = sess.run(matrix_sum, feed_dict={matrix1: input_matrix1, matrix2: input_matrix2})\n",
        "\n",
        "    # Print the result\n",
        "    print(\"Result of matrix addition:\")\n",
        "    print(sum_result)\n"
      ]
    },
    {
      "cell_type": "markdown",
      "metadata": {
        "id": "y_WSHKeGz4bQ"
      },
      "source": [
        "# **Multiply a constant with Placeholder matrix**"
      ]
    },
    {
      "cell_type": "code",
      "execution_count": 7,
      "metadata": {
        "colab": {
          "base_uri": "https://localhost:8080/"
        },
        "id": "X3LdJTMJpAoP",
        "outputId": "b11013a4-7b17-4390-9da1-04bfaa0070e7"
      },
      "outputs": [
        {
          "name": "stdout",
          "output_type": "stream",
          "text": [
            "Result of adding constant to matrix:\n",
            "[[ 6.  7.  8.]\n",
            " [ 9. 10. 11.]]\n"
          ]
        }
      ],
      "source": [
        "import tensorflow as tf\n",
        "\n",
        "# Define a constant\n",
        "constant_value = 5.0\n",
        "\n",
        "# Define a placeholder for the matrix\n",
        "matrix = tf.compat.v1.placeholder(tf.float32, shape=[None, None], name=\"matrix\")\n",
        "\n",
        "# Add the constant to the matrix\n",
        "result = tf.add(matrix, constant_value, name=\"result\")\n",
        "\n",
        "# Define input values for the matrix\n",
        "input_matrix = [[1, 2, 3],\n",
        "                [4, 5, 6]]\n",
        "\n",
        "# Start a TensorFlow session\n",
        "with tf.compat.v1.Session() as sess:\n",
        "    # Run the operation to add the constant to the matrix\n",
        "    result_value = sess.run(result, feed_dict={matrix: input_matrix})\n",
        "\n",
        "    # Print the result\n",
        "    print(\"Result of adding constant to matrix:\")\n",
        "    print(result_value)\n"
      ]
    },
    {
      "cell_type": "markdown",
      "metadata": {
        "id": "KMvvJIbs0E7B"
      },
      "source": [
        "# **Matrix Operations using Tensorflow**"
      ]
    },
    {
      "cell_type": "code",
      "execution_count": 8,
      "metadata": {
        "colab": {
          "base_uri": "https://localhost:8080/"
        },
        "id": "AqJj0G8OpXrY",
        "outputId": "be3685ce-da89-4e2e-991e-d6fd32206edd"
      },
      "outputs": [
        {
          "name": "stdout",
          "output_type": "stream",
          "text": [
            "Matrix Addition:\n",
            "[[ 8. 10. 12.]\n",
            " [14. 16. 18.]]\n",
            "\n",
            "Matrix Subtraction:\n",
            "[[-6. -6. -6.]\n",
            " [-6. -6. -6.]]\n",
            "\n",
            "Matrix Multiplication:\n",
            "[[ 50.  68.]\n",
            " [122. 167.]]\n",
            "\n",
            "Element-wise Multiplication:\n",
            "[[ 7. 16. 27.]\n",
            " [40. 55. 72.]]\n",
            "\n",
            "Matrix Division:\n",
            "[[0.14285715 0.25       0.33333334]\n",
            " [0.4        0.45454547 0.5       ]]\n",
            "\n",
            "Transpose of matrix1:\n",
            "[[1. 4.]\n",
            " [2. 5.]\n",
            " [3. 6.]]\n"
          ]
        }
      ],
      "source": [
        "import tensorflow as tf\n",
        "\n",
        "# Define two variable matrices\n",
        "matrix1 = tf.Variable([[1, 2, 3],\n",
        "                       [4, 5, 6]], dtype=tf.float32, name=\"matrix1\")\n",
        "\n",
        "matrix2 = tf.Variable([[7, 8, 9],\n",
        "                       [10, 11, 12]], dtype=tf.float32, name=\"matrix2\")\n",
        "\n",
        "# Initialize variables\n",
        "init = tf.compat.v1.global_variables_initializer()\n",
        "\n",
        "# Matrix addition\n",
        "matrix_addition = tf.add(matrix1, matrix2, name=\"matrix_addition\")\n",
        "\n",
        "# Matrix subtraction\n",
        "matrix_subtraction = tf.subtract(matrix1, matrix2, name=\"matrix_subtraction\")\n",
        "\n",
        "# Matrix multiplication\n",
        "matrix_multiplication = tf.matmul(matrix1, tf.transpose(matrix2), name=\"matrix_multiplication\")\n",
        "\n",
        "# Element-wise multiplication\n",
        "elementwise_multiplication = tf.multiply(matrix1, matrix2, name=\"elementwise_multiplication\")\n",
        "\n",
        "# Matrix division\n",
        "matrix_division = tf.divide(matrix1, matrix2, name=\"matrix_division\")\n",
        "\n",
        "# Transpose of matrix1\n",
        "matrix1_transpose = tf.transpose(matrix1, name=\"matrix1_transpose\")\n",
        "\n",
        "\n",
        "\n",
        "# Start a TensorFlow session\n",
        "with tf.compat.v1.Session() as sess:\n",
        "    # Initialize variables\n",
        "    sess.run(init)\n",
        "\n",
        "    # Compute the results\n",
        "    addition_result, subtraction_result, multiplication_result, elementwise_multiplication_result, \\\n",
        "    division_result, matrix1_transpose_result = \\\n",
        "    sess.run([matrix_addition, matrix_subtraction, matrix_multiplication, elementwise_multiplication,\n",
        "              matrix_division, matrix1_transpose,])\n",
        "\n",
        "    # Print the computed results\n",
        "    print(\"Matrix Addition:\")\n",
        "    print(addition_result)\n",
        "\n",
        "    print(\"\\nMatrix Subtraction:\")\n",
        "    print(subtraction_result)\n",
        "\n",
        "    print(\"\\nMatrix Multiplication:\")\n",
        "    print(multiplication_result)\n",
        "\n",
        "    print(\"\\nElement-wise Multiplication:\")\n",
        "    print(elementwise_multiplication_result)\n",
        "\n",
        "    print(\"\\nMatrix Division:\")\n",
        "    print(division_result)\n",
        "\n",
        "    print(\"\\nTranspose of matrix1:\")\n",
        "    print(matrix1_transpose_result)\n"
      ]
    },
    {
      "cell_type": "markdown",
      "metadata": {
        "id": "VMb319Di0bC6"
      },
      "source": [
        "# **Converting a Python list to constant**"
      ]
    },
    {
      "cell_type": "code",
      "execution_count": 9,
      "metadata": {
        "colab": {
          "base_uri": "https://localhost:8080/"
        },
        "id": "PfTkYgSnsrTi",
        "outputId": "ac03a28e-da12-4444-99b8-d71de222187d"
      },
      "outputs": [
        {
          "name": "stdout",
          "output_type": "stream",
          "text": [
            "Result of element-wise multiplication: [ 4. 10. 18.]\n"
          ]
        }
      ],
      "source": [
        "# Define two lists\n",
        "list1 = [1, 2, 3]\n",
        "list2 = [4, 5, 6]\n",
        "\n",
        "# Convert lists to TensorFlow tensors\n",
        "tensor1 = tf.constant(list1, dtype=tf.float32)\n",
        "tensor2 = tf.constant(list2, dtype=tf.float32)\n",
        "\n",
        "# Multiply the tensors element-wise\n",
        "result_tensor = tf.multiply(tensor1, tensor2)\n",
        "\n",
        "# Start a TensorFlow session\n",
        "with tf.compat.v1.Session() as sess:\n",
        "    # Run the operation to multiply the tensors\n",
        "    result = sess.run(result_tensor)\n",
        "\n",
        "    # Print the result\n",
        "    print(\"Result of element-wise multiplication:\", result)\n"
      ]
    },
    {
      "cell_type": "markdown",
      "metadata": {
        "id": "ohv9gBcm0rW5"
      },
      "source": [
        "# **Gradient Descent using Tensorflow**"
      ]
    },
    {
      "cell_type": "code",
      "execution_count": 10,
      "metadata": {
        "colab": {
          "base_uri": "https://localhost:8080/",
          "height": 819
        },
        "id": "gL1cdQkSpydN",
        "outputId": "3027f8b2-b2d5-434f-f03e-3883693a91a3"
      },
      "outputs": [
        {
          "name": "stdout",
          "output_type": "stream",
          "text": [
            "Epoch 10/200, Loss: 4.1926\n",
            "Epoch 20/200, Loss: 2.6498\n",
            "Epoch 30/200, Loss: 1.7132\n",
            "Epoch 40/200, Loss: 1.1435\n",
            "Epoch 50/200, Loss: 0.7959\n",
            "Epoch 60/200, Loss: 0.5829\n",
            "Epoch 70/200, Loss: 0.4514\n",
            "Epoch 80/200, Loss: 0.3693\n",
            "Epoch 90/200, Loss: 0.3172\n",
            "Epoch 100/200, Loss: 0.2833\n",
            "Epoch 110/200, Loss: 0.2604\n",
            "Epoch 120/200, Loss: 0.2443\n",
            "Epoch 130/200, Loss: 0.2324\n",
            "Epoch 140/200, Loss: 0.2231\n",
            "Epoch 150/200, Loss: 0.2153\n",
            "Epoch 160/200, Loss: 0.2086\n",
            "Epoch 170/200, Loss: 0.2026\n",
            "Epoch 180/200, Loss: 0.1970\n",
            "Epoch 190/200, Loss: 0.1918\n",
            "Epoch 200/200, Loss: 0.1868\n"
          ]
        },
        {
          "data": {
            "image/png": "[encoded data removed]",
            "text/plain": [
              "<Figure size 640x480 with 1 Axes>"
            ]
          },
          "metadata": {},
          "output_type": "display_data"
        }
      ],
      "source": [
        "import tensorflow as tf\n",
        "import numpy as np\n",
        "import matplotlib.pyplot as plt\n",
        "\n",
        "# Generate some random data for linear regression\n",
        "np.random.seed(0)\n",
        "X = np.random.rand(100, 1)\n",
        "y = 2 * X + 1 + np.random.randn(100, 1) * 0.1  # True relationship: y = 2X + 1 + noise\n",
        "\n",
        "# Define placeholders for input (X) and target (y) data\n",
        "X_placeholder = tf.compat.v1.placeholder(tf.float32, shape=(None, 1), name=\"X\")\n",
        "y_placeholder = tf.compat.v1.placeholder(tf.float32, shape=(None, 1), name=\"y\")\n",
        "\n",
        "# Define variables for the slope (weight) and intercept (bias) of the linear model\n",
        "W = tf.Variable(tf.random.normal([1, 1]), name=\"weight\")\n",
        "b = tf.Variable(tf.zeros([1]), name=\"bias\")\n",
        "\n",
        "# Define the linear regression model\n",
        "y_pred = tf.matmul(X_placeholder, W) + b\n",
        "\n",
        "# Define the loss function (mean squared error)\n",
        "loss = tf.reduce_mean(tf.square(y_placeholder - y_pred))\n",
        "\n",
        "# Define the optimizer (gradient descent) and learning rate\n",
        "learning_rate = 0.01\n",
        "optimizer = tf.compat.v1.train.GradientDescentOptimizer(learning_rate).minimize(loss)\n",
        "\n",
        "# Train the model using gradient descent\n",
        "num_epochs = 200\n",
        "losses = []\n",
        "\n",
        "with tf.compat.v1.Session() as sess:\n",
        "    # Initialize variables\n",
        "    sess.run(tf.compat.v1.global_variables_initializer())\n",
        "\n",
        "    # Run gradient descent for multiple epochs\n",
        "    for epoch in range(num_epochs):\n",
        "        # Perform one step of gradient descent\n",
        "        _, current_loss = sess.run([optimizer, loss], feed_dict={X_placeholder: X, y_placeholder: y})\n",
        "\n",
        "        # Save the current loss for visualization\n",
        "        losses.append(current_loss)\n",
        "\n",
        "        # Print progress\n",
        "        if (epoch + 1) % 10 == 0:\n",
        "            print(f\"Epoch {epoch + 1}/{num_epochs}, Loss: {current_loss:.4f}\")\n",
        "\n",
        "    # Get the final slope (weight) and intercept (bias) values\n",
        "    slope, intercept = sess.run([W, b])\n",
        "\n",
        "# Plot the data and the fitted line\n",
        "plt.scatter(X, y, label='Data')\n",
        "plt.plot(X, slope * X + intercept, color='red', label='Fitted line')\n",
        "plt.xlabel('X')\n",
        "plt.ylabel('y')\n",
        "plt.title('Linear Regression with Gradient Descent')\n",
        "plt.legend()\n",
        "plt.show()\n"
      ]
    },
    {
      "cell_type": "markdown",
      "metadata": {
        "id": "jpqOIGPb4sdT"
      },
      "source": [
        "# **Classification using Tensorflow**"
      ]
    },
    {
      "cell_type": "code",
      "execution_count": 11,
      "metadata": {
        "colab": {
          "base_uri": "https://localhost:8080/"
        },
        "id": "DIE1KPDXsCjy",
        "outputId": "7feed362-3007-44a9-81ae-4574b196a653"
      },
      "outputs": [
        {
          "name": "stdout",
          "output_type": "stream",
          "text": [
            "Train on 712 samples, validate on 179 samples\n",
            "Epoch 1/50\n",
            "712/712 [==============================] - 0s 282us/sample - loss: 0.6320 - accuracy: 0.6531 - val_loss: 0.5810 - val_accuracy: 0.6648\n",
            "Epoch 2/50\n",
            "712/712 [==============================] - 0s 31us/sample - loss: 0.5597 - accuracy: 0.7079 - val_loss: 0.5243 - val_accuracy: 0.7430\n",
            "Epoch 3/50\n",
            "712/712 [==============================] - 0s 32us/sample - loss: 0.5344 - accuracy: 0.7486 - val_loss: 0.4921 - val_accuracy: 0.7374\n",
            "Epoch 4/50\n",
            "712/712 [==============================] - 0s 31us/sample - loss: 0.5004 - accuracy: 0.7865 - val_loss: 0.4716 - val_accuracy: 0.7709\n",
            "Epoch 5/50\n",
            "712/712 [==============================] - 0s 32us/sample - loss: 0.4954 - accuracy: 0.7837 - val_loss: 0.4609 - val_accuracy: 0.7877\n",
            "Epoch 6/50\n",
            "712/712 [==============================] - 0s 28us/sample - loss: 0.4805 - accuracy: 0.7809 - val_loss: 0.4504 - val_accuracy: 0.7877\n"
          ]
        },
        {
          "name": "stderr",
          "output_type": "stream",
          "text": [
            "c:\\Users\\Vibhor\\AppData\\Local\\Programs\\Python\\Python311\\Lib\\site-packages\\keras\\engine\\training_v1.py:2335: UserWarning: `Model.state_updates` will be removed in a future version. This property should not be used in TensorFlow 2.0, as `updates` are applied automatically.\n",
            "  updates = self.state_updates\n"
          ]
        },
        {
          "name": "stdout",
          "output_type": "stream",
          "text": [
            "Epoch 7/50\n",
            "712/712 [==============================] - 0s 33us/sample - loss: 0.4856 - accuracy: 0.7837 - val_loss: 0.4472 - val_accuracy: 0.7877\n",
            "Epoch 8/50\n",
            "712/712 [==============================] - 0s 28us/sample - loss: 0.4778 - accuracy: 0.7823 - val_loss: 0.4423 - val_accuracy: 0.7933\n",
            "Epoch 9/50\n",
            "712/712 [==============================] - 0s 28us/sample - loss: 0.4712 - accuracy: 0.7978 - val_loss: 0.4395 - val_accuracy: 0.8045\n",
            "Epoch 10/50\n",
            "712/712 [==============================] - 0s 29us/sample - loss: 0.4572 - accuracy: 0.8034 - val_loss: 0.4366 - val_accuracy: 0.8045\n",
            "Epoch 11/50\n",
            "712/712 [==============================] - 0s 27us/sample - loss: 0.4681 - accuracy: 0.7907 - val_loss: 0.4340 - val_accuracy: 0.7989\n",
            "Epoch 12/50\n",
            "712/712 [==============================] - 0s 31us/sample - loss: 0.4622 - accuracy: 0.7992 - val_loss: 0.4351 - val_accuracy: 0.7989\n",
            "Epoch 13/50\n",
            "712/712 [==============================] - 0s 29us/sample - loss: 0.4533 - accuracy: 0.8020 - val_loss: 0.4343 - val_accuracy: 0.7989\n",
            "Epoch 14/50\n",
            "712/712 [==============================] - 0s 27us/sample - loss: 0.4627 - accuracy: 0.8062 - val_loss: 0.4357 - val_accuracy: 0.7989\n",
            "Epoch 15/50\n",
            "712/712 [==============================] - 0s 29us/sample - loss: 0.4576 - accuracy: 0.8104 - val_loss: 0.4360 - val_accuracy: 0.7989\n",
            "Epoch 16/50\n",
            "712/712 [==============================] - 0s 27us/sample - loss: 0.4484 - accuracy: 0.8090 - val_loss: 0.4326 - val_accuracy: 0.7989\n",
            "Epoch 17/50\n",
            "712/712 [==============================] - 0s 30us/sample - loss: 0.4454 - accuracy: 0.8160 - val_loss: 0.4349 - val_accuracy: 0.7989\n",
            "Epoch 18/50\n",
            "712/712 [==============================] - 0s 32us/sample - loss: 0.4429 - accuracy: 0.8020 - val_loss: 0.4349 - val_accuracy: 0.7989\n",
            "Epoch 19/50\n",
            "712/712 [==============================] - 0s 30us/sample - loss: 0.4229 - accuracy: 0.8104 - val_loss: 0.4342 - val_accuracy: 0.7989\n",
            "Epoch 20/50\n",
            "712/712 [==============================] - 0s 30us/sample - loss: 0.4204 - accuracy: 0.8230 - val_loss: 0.4330 - val_accuracy: 0.7933\n",
            "Epoch 21/50\n",
            "712/712 [==============================] - 0s 29us/sample - loss: 0.4291 - accuracy: 0.8020 - val_loss: 0.4331 - val_accuracy: 0.7989\n",
            "Epoch 22/50\n",
            "712/712 [==============================] - 0s 30us/sample - loss: 0.4285 - accuracy: 0.8034 - val_loss: 0.4344 - val_accuracy: 0.7989\n",
            "Epoch 23/50\n",
            "712/712 [==============================] - 0s 26us/sample - loss: 0.4259 - accuracy: 0.8062 - val_loss: 0.4348 - val_accuracy: 0.7989\n",
            "Epoch 24/50\n",
            "712/712 [==============================] - 0s 29us/sample - loss: 0.4230 - accuracy: 0.8230 - val_loss: 0.4346 - val_accuracy: 0.7933\n",
            "Epoch 25/50\n",
            "712/712 [==============================] - 0s 31us/sample - loss: 0.4279 - accuracy: 0.8230 - val_loss: 0.4322 - val_accuracy: 0.7989\n",
            "Epoch 26/50\n",
            "712/712 [==============================] - 0s 28us/sample - loss: 0.4319 - accuracy: 0.8062 - val_loss: 0.4331 - val_accuracy: 0.7933\n",
            "Epoch 27/50\n",
            "712/712 [==============================] - 0s 29us/sample - loss: 0.4382 - accuracy: 0.8062 - val_loss: 0.4331 - val_accuracy: 0.7933\n",
            "Epoch 28/50\n",
            "712/712 [==============================] - 0s 30us/sample - loss: 0.4246 - accuracy: 0.8076 - val_loss: 0.4321 - val_accuracy: 0.7989\n",
            "Epoch 29/50\n",
            "712/712 [==============================] - 0s 26us/sample - loss: 0.4156 - accuracy: 0.8371 - val_loss: 0.4332 - val_accuracy: 0.7989\n",
            "Epoch 30/50\n",
            "712/712 [==============================] - 0s 28us/sample - loss: 0.4222 - accuracy: 0.8062 - val_loss: 0.4324 - val_accuracy: 0.7989\n",
            "Epoch 31/50\n",
            "712/712 [==============================] - 0s 28us/sample - loss: 0.4169 - accuracy: 0.8188 - val_loss: 0.4322 - val_accuracy: 0.7933\n",
            "Epoch 32/50\n",
            "712/712 [==============================] - 0s 26us/sample - loss: 0.4144 - accuracy: 0.8244 - val_loss: 0.4303 - val_accuracy: 0.7989\n",
            "Epoch 33/50\n",
            "712/712 [==============================] - 0s 28us/sample - loss: 0.4245 - accuracy: 0.8132 - val_loss: 0.4319 - val_accuracy: 0.7933\n",
            "Epoch 34/50\n",
            "712/712 [==============================] - 0s 26us/sample - loss: 0.4018 - accuracy: 0.8287 - val_loss: 0.4322 - val_accuracy: 0.7933\n",
            "Epoch 35/50\n",
            "712/712 [==============================] - 0s 29us/sample - loss: 0.4084 - accuracy: 0.8287 - val_loss: 0.4331 - val_accuracy: 0.7933\n",
            "Epoch 36/50\n",
            "712/712 [==============================] - 0s 27us/sample - loss: 0.4194 - accuracy: 0.8230 - val_loss: 0.4335 - val_accuracy: 0.7989\n",
            "Epoch 37/50\n",
            "712/712 [==============================] - 0s 27us/sample - loss: 0.4079 - accuracy: 0.8174 - val_loss: 0.4321 - val_accuracy: 0.7989\n",
            "Epoch 38/50\n",
            "712/712 [==============================] - 0s 34us/sample - loss: 0.4172 - accuracy: 0.8076 - val_loss: 0.4314 - val_accuracy: 0.7989\n",
            "Epoch 39/50\n",
            "712/712 [==============================] - 0s 32us/sample - loss: 0.4156 - accuracy: 0.8174 - val_loss: 0.4359 - val_accuracy: 0.7989\n",
            "Epoch 40/50\n",
            "712/712 [==============================] - 0s 45us/sample - loss: 0.4303 - accuracy: 0.8188 - val_loss: 0.4352 - val_accuracy: 0.7989\n",
            "Epoch 41/50\n",
            "712/712 [==============================] - 0s 40us/sample - loss: 0.4212 - accuracy: 0.8132 - val_loss: 0.4356 - val_accuracy: 0.7933\n",
            "Epoch 42/50\n",
            "712/712 [==============================] - 0s 64us/sample - loss: 0.4251 - accuracy: 0.8272 - val_loss: 0.4347 - val_accuracy: 0.7989\n",
            "Epoch 43/50\n",
            "712/712 [==============================] - 0s 44us/sample - loss: 0.4107 - accuracy: 0.8258 - val_loss: 0.4361 - val_accuracy: 0.7933\n",
            "Epoch 44/50\n",
            "712/712 [==============================] - 0s 57us/sample - loss: 0.4220 - accuracy: 0.8118 - val_loss: 0.4377 - val_accuracy: 0.7933\n",
            "Epoch 45/50\n",
            "712/712 [==============================] - 0s 48us/sample - loss: 0.4030 - accuracy: 0.8188 - val_loss: 0.4360 - val_accuracy: 0.8045\n",
            "Epoch 46/50\n",
            "712/712 [==============================] - 0s 51us/sample - loss: 0.4124 - accuracy: 0.8230 - val_loss: 0.4356 - val_accuracy: 0.8045\n",
            "Epoch 47/50\n",
            "712/712 [==============================] - 0s 94us/sample - loss: 0.4068 - accuracy: 0.8301 - val_loss: 0.4340 - val_accuracy: 0.8101\n",
            "Epoch 48/50\n",
            "712/712 [==============================] - 0s 107us/sample - loss: 0.4175 - accuracy: 0.8132 - val_loss: 0.4330 - val_accuracy: 0.8101\n",
            "Epoch 49/50\n",
            "712/712 [==============================] - 0s 56us/sample - loss: 0.4131 - accuracy: 0.8174 - val_loss: 0.4359 - val_accuracy: 0.7989\n",
            "Epoch 50/50\n",
            "712/712 [==============================] - 0s 76us/sample - loss: 0.4073 - accuracy: 0.8230 - val_loss: 0.4383 - val_accuracy: 0.8045\n",
            "Test accuracy: 0.8044693\n"
          ]
        }
      ],
      "source": [
        "import pandas as pd\n",
        "import numpy as np\n",
        "import tensorflow as tf\n",
        "from sklearn.model_selection import train_test_split\n",
        "from sklearn.preprocessing import StandardScaler\n",
        "\n",
        "# Load the Titanic dataset\n",
        "url = \"https://raw.githubusercontent.com/datasciencedojo/datasets/master/titanic.csv\"\n",
        "titanic_df = pd.read_csv(url)\n",
        "\n",
        "# Preprocess the data\n",
        "titanic_df.drop(['Name', 'Ticket', 'Cabin', 'Embarked'], axis=1, inplace=True)  # Drop irrelevant columns\n",
        "titanic_df['Sex'] = titanic_df['Sex'].map({'male': 0, 'female': 1})  # Convert 'Sex' to numerical values\n",
        "titanic_df['Age'].fillna(titanic_df['Age'].median(), inplace=True)  # Fill missing values in 'Age' with median\n",
        "titanic_df.dropna(inplace=True)  # Drop rows with missing values in remaining columns\n",
        "\n",
        "# Split features and target variable\n",
        "X = titanic_df.drop('Survived', axis=1).values\n",
        "y = titanic_df['Survived'].values\n",
        "\n",
        "# Standardize the features\n",
        "scaler = StandardScaler()\n",
        "X = scaler.fit_transform(X)\n",
        "\n",
        "# Split the data into training and testing sets\n",
        "X_train, X_test, y_train, y_test = train_test_split(X, y, test_size=0.2, random_state=42)\n",
        "\n",
        "# Variables are used to store the parameters of the neural network model that need to be optimized during training.\n",
        "# These parameters include the weights and biases of each layer.\n",
        "# In the provided code, variables are created implicitly when defining the layers of the neural network using tf.keras.layers.Dense() constructor.\n",
        "# Each call to this constructor creates a layer with its own set of variables.\n",
        "# define three dense layers in the neural network, each of which has its own set of variables (weights and biases).\n",
        "# Define the neural network architecture (Tensorflow Variables: values updated at runtime)\n",
        "model = tf.keras.models.Sequential([\n",
        "    tf.keras.layers.Dense(32, activation='relu', input_shape=(7,)),  # Input layer with 32 neurons\n",
        "    tf.keras.layers.Dropout(0.2),  # Dropout layer with dropout rate of 20%\n",
        "    tf.keras.layers.Dense(32, activation='relu'),  # Hidden layer with 32 neurons\n",
        "    tf.keras.layers.Dropout(0.2),  # Dropout layer with dropout rate of 20%\n",
        "    tf.keras.layers.Dense(1, activation='sigmoid')  # Output layer with 1 neuron\n",
        "])\n",
        "\n",
        "# Compile the model\n",
        "model.compile(optimizer='adam',\n",
        "              loss='binary_crossentropy',\n",
        "              metrics=['accuracy'])\n",
        "\n",
        "# Placeholders are used to feed input data into the TensorFlow computational graph during training or inference.\n",
        "# In TensorFlow 2.x (used in the provided code), placeholders are not explicitly used. Instead, input data is directly passed to the model's fit() method.\n",
        "# In earlier versions of TensorFlow (e.g., TensorFlow 1.x), placeholders were explicitly defined using tf.compat.v1.placeholder().\n",
        "# However, in TensorFlow 2.x, placeholders are replaced by direct input data feeding using NumPy arrays or TensorFlow datasets.\n",
        "# split the dataset into training and testing sets, and the model is trained directly using X_train, y_train as input data and labels during the model.fit() call.\n",
        "# Train the model\n",
        "model.fit(X_train, y_train, epochs=50, batch_size=32, validation_data=(X_test, y_test))\n",
        "\n",
        "# Evaluate the model\n",
        "test_loss, test_accuracy = model.evaluate(X_test, y_test)\n",
        "print(\"Test accuracy:\", test_accuracy)\n"
      ]
    }
  ],
  "metadata": {
    "accelerator": "GPU",
    "colab": {
      "provenance": []
    },
    "gpuClass": "standard",
    "kernelspec": {
      "display_name": "Python 3",
      "name": "python3"
    },
    "language_info": {
      "codemirror_mode": {
        "name": "ipython",
        "version": 3
      },
      "file_extension": ".py",
      "mimetype": "text/x-python",
      "name": "python",
      "nbconvert_exporter": "python",
      "pygments_lexer": "ipython3",
      "version": "3.11.5"
    }
  },
  "nbformat": 4,
  "nbformat_minor": 0
}
